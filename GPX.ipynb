{
 "cells": [
  {
   "cell_type": "code",
   "execution_count": 5,
   "metadata": {
    "collapsed": true
   },
   "outputs": [],
   "source": [
    "import numpy, gpxpy, pandas"
   ]
  },
  {
   "cell_type": "code",
   "execution_count": 4,
   "metadata": {
    "collapsed": true
   },
   "outputs": [],
   "source": [
    "_FILE_PATH = 'utgtrack-pech-david.gpx'"
   ]
  },
  {
   "cell_type": "code",
   "execution_count": 3,
   "metadata": {
    "collapsed": true
   },
   "outputs": [],
   "source": [
    "with open(_FILE_PATH) as _file : \n",
    "    gpx_data = gpxpy.parse(_file)"
   ]
  },
  {
   "cell_type": "code",
   "execution_count": 5,
   "metadata": {},
   "outputs": [
    {
     "name": "stdout",
     "output_type": "stream",
     "text": [
      "1 track(s)\n",
      "1 segment(s)\n",
      "513 point(s)\n"
     ]
    }
   ],
   "source": [
    "print(\"{} track(s)\".format(len(gpx_data.tracks)))\n",
    "track = gpx_data.tracks[0]\n",
    "\n",
    "print(\"{} segment(s)\".format(len(track.segments)))\n",
    "segment = track.segments[0]\n",
    "\n",
    "print(\"{} point(s)\".format(len(segment.points)))"
   ]
  },
  {
   "cell_type": "code",
   "execution_count": 6,
   "metadata": {
    "collapsed": true
   },
   "outputs": [],
   "source": [
    "data = []\n",
    "\n",
    "segment_length = segment.length_3d()\n",
    "\n",
    "for point_idx, point in enumerate(segment.points):\n",
    "    data.append([point.longitude, point.latitude, point.elevation, point.time, segment.get_speed(point_idx)])\n",
    "    \n",
    "from pandas import DataFrame\n",
    "\n",
    "columns = ['Longitude', 'Latitude', 'Altitude', 'Time', 'Speed']\n",
    "df = DataFrame(data, columns=columns)"
   ]
  },
  {
   "cell_type": "code",
   "execution_count": 9,
   "metadata": {},
   "outputs": [
    {
     "data": {
      "text/plain": [
       "{'max_lat': 43.563409999999998,\n",
       " 'max_lon': 1.4734,\n",
       " 'min_lat': 43.513890000000004,\n",
       " 'min_lon': 1.4408300000000001}"
      ]
     },
     "execution_count": 9,
     "metadata": {},
     "output_type": "execute_result"
    }
   ],
   "source": [
    "limits = {\n",
    "    'min_lon':df.Longitude.min(),\n",
    "    'max_lon':df.Longitude.max(),\n",
    "    'min_lat':df.Latitude.min(),\n",
    "    'max_lat':df.Latitude.max() \n",
    "         }\n",
    "limits"
   ]
  },
  {
   "cell_type": "code",
   "execution_count": 10,
   "metadata": {
    "collapsed": true
   },
   "outputs": [],
   "source": [
    "def gpx_limit(file):\n",
    "    #OO serait le bienvenue \n",
    "    from pandas import DataFrame\n",
    "    with open(file) as _file : \n",
    "        gpx_data = gpxpy.parse(_file)\n",
    "    #assert 1 track, 1 segment\n",
    "    segment = gpx_data.tracks[0].segments[0]\n",
    "    data = []\n",
    "    for point_idx, point in enumerate(segment.points):\n",
    "        data.append([point.longitude, point.latitude, point.elevation, point.time, segment.get_speed(point_idx)])\n",
    "    df = DataFrame(data, columns=['Longitude', 'Latitude', 'Altitude', 'Time', 'Speed'])\n",
    "    return({\n",
    "    'min_lon':df.Longitude.min(),\n",
    "    'max_lon':df.Longitude.max(),\n",
    "    'min_lat':df.Latitude.min(),\n",
    "    'max_lat':df.Latitude.max() \n",
    "         })"
   ]
  },
  {
   "cell_type": "code",
   "execution_count": 11,
   "metadata": {},
   "outputs": [
    {
     "data": {
      "text/plain": [
       "{'max_lat': 43.563409999999998,\n",
       " 'max_lon': 1.4734,\n",
       " 'min_lat': 43.513890000000004,\n",
       " 'min_lon': 1.4408300000000001}"
      ]
     },
     "execution_count": 11,
     "metadata": {},
     "output_type": "execute_result"
    }
   ],
   "source": [
    "gpx_limit(_FILE_PATH)"
   ]
  },
  {
   "cell_type": "code",
   "execution_count": null,
   "metadata": {
    "collapsed": true
   },
   "outputs": [],
   "source": []
  }
 ],
 "metadata": {
  "kernelspec": {
   "display_name": "Python 3",
   "language": "python",
   "name": "python3"
  },
  "language_info": {
   "codemirror_mode": {
    "name": "ipython",
    "version": 3
   },
   "file_extension": ".py",
   "mimetype": "text/x-python",
   "name": "python",
   "nbconvert_exporter": "python",
   "pygments_lexer": "ipython3",
   "version": "3.6.1"
  }
 },
 "nbformat": 4,
 "nbformat_minor": 2
}
