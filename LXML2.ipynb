{
 "cells": [
  {
   "cell_type": "code",
   "execution_count": 40,
   "metadata": {},
   "outputs": [],
   "source": [
    "from lxml import etree"
   ]
  },
  {
   "cell_type": "code",
   "execution_count": 41,
   "metadata": {},
   "outputs": [],
   "source": [
    "_FILE_PATH = 'wmts.xml'\n",
    "_DEF_NS = {\"foo\": \"http://www.opengis.net/wmts/1.0\",\"ows\":\"http://www.opengis.net/ows/1.1\"}"
   ]
  },
  {
   "cell_type": "code",
   "execution_count": 42,
   "metadata": {},
   "outputs": [],
   "source": [
    "def get_tile_limits_info(file):\n",
    "    \"\"\"Return dict with tile identifier,description, limits for each tile type and zoom option\"\"\"\n",
    "    data = {}\n",
    "    tree = etree.parse(_FILE_PATH)\n",
    "    layers = tree.xpath('//foo:Layer', namespaces = _DEF_NS)\n",
    "\n",
    "    for Layer in layers:\n",
    "        identifier = Layer.xpath(\"ows:Identifier\" , namespaces = _DEF_NS)[0].text\n",
    "        description = Layer.xpath(\"ows:Title\" , namespaces = _DEF_NS)[0].text\n",
    "        #print(\"Layer id :{0} ==> {1}\".format(identifier,description))\n",
    "        data[identifier]={'description': description}\n",
    "\n",
    "        TileMatrixLimits_List = Layer.xpath('.//foo:TileMatrixLimits', namespaces = _DEF_NS)\n",
    "        for TileMatrixLimits in TileMatrixLimits_List:\n",
    "            TileMatrix = int(TileMatrixLimits.find(\"foo:TileMatrix\", namespaces = _DEF_NS).text)\n",
    "            MinTileRow = int(TileMatrixLimits.find(\"foo:MinTileRow\", namespaces = _DEF_NS).text)\n",
    "            MaxTileRow = int(TileMatrixLimits.find(\"foo:MaxTileRow\", namespaces = _DEF_NS).text)\n",
    "            MinTileCol = int(TileMatrixLimits.find(\"foo:MinTileCol\", namespaces = _DEF_NS).text)\n",
    "            MaxTileCol = int(TileMatrixLimits.find(\"foo:MaxTileCol\", namespaces = _DEF_NS).text)\n",
    "            #print(\"\\t{0} {1} {2} {3} {4}\".format(TileMatrix, MinTileRow, MaxTileRow,MinTileCol, MaxTileCol))\n",
    "            data[identifier][TileMatrix] = {'MinTileRow' : MinTileRow,\n",
    "                                            'MaxTileRow' : MaxTileRow,\n",
    "                                            'MinTileCol' : MinTileCol,\n",
    "                                            'MaxTileCol' : MaxTileCol\n",
    "                                            }\n",
    "    return(data)"
   ]
  },
  {
   "cell_type": "code",
   "execution_count": 43,
   "metadata": {},
   "outputs": [
    {
     "data": {
      "text/plain": [
       "{'MinTileRow': 21889,\n",
       " 'MaxTileRow': 35176,\n",
       " 'MinTileCol': 21264,\n",
       " 'MaxTileCol': 41027}"
      ]
     },
     "execution_count": 43,
     "metadata": {},
     "output_type": "execute_result"
    }
   ],
   "source": [
    "tile_data = get_tile_limits_info(_FILE_PATH)\n",
    "tile_data['GEOGRAPHICALGRIDSYSTEMS.MAPS.SCAN-EXPRESS.STANDARD'][16]"
   ]
  },
  {
   "cell_type": "code",
   "execution_count": 75,
   "metadata": {},
   "outputs": [],
   "source": [
    "def get_scale_denom_info(file):\n",
    "    \"\"\"Return dict with tile matrix set identifier, zoom(scale), scale denom(meters/pixel)\"\"\"\n",
    "    data = {}\n",
    "    tree = etree.parse(_FILE_PATH)\n",
    "    \n",
    "    TileMatrixSets = tree.xpath('/foo:Capabilities/foo:Contents/foo:TileMatrixSet', namespaces = _DEF_NS)\n",
    "    for tilematrixset in TileMatrixSets:\n",
    "        identifier = tilematrixset.find('ows:Identifier', namespaces = _DEF_NS).text\n",
    "        supportedcrs = tilematrixset.find('ows:SupportedCRS', namespaces = _DEF_NS).text\n",
    "        data[identifier] = {}\n",
    "        data[identifier]['supportedcrs'] = supportedcrs\n",
    "        TileMatrixes = tilematrixset.findall('foo:TileMatrix', namespaces = _DEF_NS)\n",
    "        for tilematrix in TileMatrixes:\n",
    "            scale = tilematrix.find('ows:Identifier', namespaces = _DEF_NS).text\n",
    "            #Dénominateur d'échelle = résolution / taille pixel ; taille de pixel arbitraire = 0.00028 m\n",
    "            scale_denom = float(tilematrix.find('foo:ScaleDenominator', namespaces = _DEF_NS).text) * 0.00028 \n",
    "            data[identifier][scale]=scale_denom\n",
    "            str_ref = tilematrix.find('foo:TopLeftCorner', namespaces = _DEF_NS).text\n",
    "            (data[identifier]['X_ref'],data[identifier]['Y_ref']) =  map(float, str_ref.split(\" \"))\n",
    "    return data"
   ]
  },
  {
   "cell_type": "code",
   "execution_count": 76,
   "metadata": {},
   "outputs": [
    {
     "data": {
      "text/plain": [
       "{'LAMB93': {'supportedcrs': 'EPSG:2154',\n",
       "  '0': 104579.224549894,\n",
       "  'X_ref': 0.0,\n",
       "  'Y_ref': 12000000.0,\n",
       "  '1': 52277.5323537905,\n",
       "  '10': 102.0783167832,\n",
       "  '11': 51.0391448966,\n",
       "  '12': 25.5195690743,\n",
       "  '13': 12.7597836936,\n",
       "  '14': 6.379891636,\n",
       "  '15': 3.1899457653,\n",
       "  '16': 1.5949728695,\n",
       "  '17': 0.7974864315000001,\n",
       "  '18': 0.3987432149,\n",
       "  '19': 0.19937160729999998,\n",
       "  '2': 26135.4870785954,\n",
       "  '20': 0.09968580370000002,\n",
       "  '21': 0.04984290179999999,\n",
       "  '3': 13066.891381800002,\n",
       "  '4': 6533.2286041135,\n",
       "  '5': 3266.5595244627,\n",
       "  '6': 1633.2660045973998,\n",
       "  '7': 816.6295549859999,\n",
       "  '8': 408.3139146768,\n",
       "  '9': 204.1567415109},\n",
       " 'LAMB93_25cm': {'supportedcrs': 'IGNF:LAMB93',\n",
       "  '0': 131072.0,\n",
       "  'X_ref': 0.0,\n",
       "  'Y_ref': 12000000.0,\n",
       "  '1': 65536.0,\n",
       "  '10': 128.0,\n",
       "  '11': 64.0,\n",
       "  '12': 32.0,\n",
       "  '13': 16.0,\n",
       "  '14': 8.0,\n",
       "  '15': 4.0,\n",
       "  '16': 2.0,\n",
       "  '17': 1.0,\n",
       "  '18': 0.5,\n",
       "  '19': 0.25,\n",
       "  '2': 32768.0,\n",
       "  '3': 16384.0,\n",
       "  '4': 8192.0,\n",
       "  '5': 4096.0,\n",
       "  '6': 2048.0,\n",
       "  '7': 1024.0,\n",
       "  '8': 512.0,\n",
       "  '9': 256.0},\n",
       " 'PM': {'supportedcrs': 'EPSG:3857',\n",
       "  '0': 156543.033928041,\n",
       "  'X_ref': -20037508.342789248,\n",
       "  'Y_ref': 20037508.342789248,\n",
       "  '1': 78271.51696402048,\n",
       "  '10': 152.8740565703525,\n",
       "  '11': 76.43702828517624,\n",
       "  '12': 38.21851414258813,\n",
       "  '13': 19.10925707129406,\n",
       "  '14': 9.554628535647032,\n",
       "  '15': 4.777314267823516,\n",
       "  '16': 2.388657133911758,\n",
       "  '17': 1.194328566955879,\n",
       "  '18': 0.5971642834779395,\n",
       "  '19': 0.2985821417389697,\n",
       "  '2': 39135.758482010235,\n",
       "  '20': 0.1492910708694849,\n",
       "  '21': 0.0746455354347424,\n",
       "  '3': 19567.87924100512,\n",
       "  '4': 9783.93962050256,\n",
       "  '5': 4891.96981025128,\n",
       "  '6': 2445.98490512564,\n",
       "  '7': 1222.99245256282,\n",
       "  '8': 611.49622628141,\n",
       "  '9': 305.7481131407048},\n",
       " 'WGS84G': {'supportedcrs': 'IGNF:WGS84G',\n",
       "  '0': 78271.51696402048,\n",
       "  'X_ref': -180.0,\n",
       "  'Y_ref': 90.0,\n",
       "  '1': 39135.75848201024,\n",
       "  '10': 76.43702828517625,\n",
       "  '11': 38.21851414258813,\n",
       "  '12': 19.109257071294063,\n",
       "  '13': 9.554628535647032,\n",
       "  '14': 4.777314267823516,\n",
       "  '15': 2.388657133911758,\n",
       "  '16': 1.194328566955879,\n",
       "  '17': 0.5971642834779395,\n",
       "  '18': 0.29858214173896974,\n",
       "  '19': 0.14929107086948487,\n",
       "  '2': 19567.87924100512,\n",
       "  '3': 9783.93962050256,\n",
       "  '4': 4891.96981025128,\n",
       "  '5': 2445.98490512564,\n",
       "  '6': 1222.99245256282,\n",
       "  '7': 611.49622628141,\n",
       "  '8': 305.748113140705,\n",
       "  '9': 152.8740565703525},\n",
       " 'WGS84G_PO': {'supportedcrs': 'IGNF:WGS84G',\n",
       "  '0': 78271.51696402048,\n",
       "  'X_ref': -180.0,\n",
       "  'Y_ref': 90.0,\n",
       "  '1': 39135.75848201024,\n",
       "  '10': 76.43702828517625,\n",
       "  '11': 38.21851414258813,\n",
       "  '12': 19.109257071294063,\n",
       "  '2': 19567.87924100512,\n",
       "  '3': 9783.93962050256,\n",
       "  '4': 4891.96981025128,\n",
       "  '5': 2445.98490512564,\n",
       "  '6': 1222.99245256282,\n",
       "  '7': 611.49622628141,\n",
       "  '8': 305.748113140705,\n",
       "  '9': 152.8740565703525}}"
      ]
     },
     "execution_count": 76,
     "metadata": {},
     "output_type": "execute_result"
    }
   ],
   "source": [
    "matrix_set_data = get_scale_denom_info(_FILE_PATH)\n",
    "matrix_set_data"
   ]
  },
  {
   "cell_type": "code",
   "execution_count": null,
   "metadata": {},
   "outputs": [],
   "source": []
  }
 ],
 "metadata": {
  "kernelspec": {
   "display_name": "Python 3",
   "language": "python",
   "name": "python3"
  },
  "language_info": {
   "codemirror_mode": {
    "name": "ipython",
    "version": 3
   },
   "file_extension": ".py",
   "mimetype": "text/x-python",
   "name": "python",
   "nbconvert_exporter": "python",
   "pygments_lexer": "ipython3",
   "version": "3.7.3"
  }
 },
 "nbformat": 4,
 "nbformat_minor": 2
}
