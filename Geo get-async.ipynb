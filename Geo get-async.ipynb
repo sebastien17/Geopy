{
 "cells": [
  {
   "cell_type": "code",
   "execution_count": 1,
   "metadata": {
    "collapsed": true
   },
   "outputs": [],
   "source": [
    "import io\n",
    "import numpy\n",
    "from PIL import Image\n",
    "import aiohttp\n",
    "import asyncio"
   ]
  },
  {
   "cell_type": "code",
   "execution_count": 7,
   "metadata": {
    "collapsed": true
   },
   "outputs": [],
   "source": [
    "base_url = \"https://wxs.ign.fr/an7nvfzojv5wa96dsga5nk8w/geoportail/wmts\"\n",
    "_headers = {\n",
    "        'Accept' : 'text/html,application/xhtml+xml,application/xml;q=0.9,*/*;q=0.8',\n",
    "        'Accept-Encoding': 'gzip, deflate',\n",
    "        'Accept-Language': 'en-US,en;q=0.5',\n",
    "        'Connection': 'keep-alive',\n",
    "        'Host': 'wxs.ign.fr',\n",
    "        'Referer': 'http://www.geoportail.gouv.fr/swf/geoportal-visu-1.3.2.swf',\n",
    "        'User-Agent': 'Mozilla/5.0 (Windows NT 6.1; WOW64; rv:22.0) Gecko/20100101 Firefox/22.0',\n",
    "}\n",
    "default_values = {\n",
    "    'layer' : 'GEOGRAPHICALGRIDSYSTEMS.MAPS.SCAN-EXPRESS.STANDARD',\n",
    "    'style' : 'normal',\n",
    "    'tilematrixset' : 'PM',\n",
    "    'Service' : 'WMTS',\n",
    "    'Request' : 'GetTile',\n",
    "    'Version' : '1.0.0',\n",
    "    'Format': 'image/jpeg',\n",
    "    'TileMatrix' : 16\n",
    "    }\n",
    "test_values = {\n",
    "    'layer' : 'GEOGRAPHICALGRIDSYSTEMS.MAPS.SCAN-EXPRESS.STANDARD',\n",
    "    'style' : 'normal',\n",
    "    'tilematrixset' : 'PM',\n",
    "    'Service' : 'WMTS',\n",
    "    'Request' : 'GetFeatureInfo',\n",
    "    'Version' : '1.0.0',\n",
    "    'Format': 'image/jpeg',\n",
    "    'TileMatrix' : 16,\n",
    "    'InfoFormat' : 'text/html',\n",
    "    'i' : 1,\n",
    "    'j' : 1\n",
    "    }\n"
   ]
  },
  {
   "cell_type": "code",
   "execution_count": 10,
   "metadata": {
    "collapsed": true
   },
   "outputs": [],
   "source": [
    "def get_map(start_row, start_col, row_number, col_number):\n",
    "    \n",
    "    contenant = numpy.empty([row_number,col_number,256,256,3], dtype = 'uint8')\n",
    "    \n",
    "    async def put_tile(session, Row, Col):\n",
    "        data = await get_tile(session, start_row+Row, start_col+Col)\n",
    "        contenant[Row][Col] = Image.open(io.BytesIO(data))\n",
    "        \n",
    "    async def get_tile(session, Row, Col):\n",
    "        _values = default_values\n",
    "        t_values = test_values\n",
    "        t_values['TileCol'] = _values['TileCol'] = Col\n",
    "        t_values['TileRow'] = _values['TileRow'] = Row\n",
    "        #async with session.request('GET', base_url, params = t_values) as resp:\n",
    "        #    assert resp.status == 200\n",
    "        #    print(resp.read())\n",
    "        async with session.request('GET', base_url, params = _values) as resp:\n",
    "            assert resp.status == 200\n",
    "            return await  resp.read()\n",
    "        \n",
    "    async def main(loop):\n",
    "        tasks = []\n",
    "        async with aiohttp.ClientSession(loop=loop, headers = _headers ) as session:\n",
    "            for j in range(0,col_number):\n",
    "                for i in range(0,row_number):\n",
    "                    task = asyncio.ensure_future(put_tile(session, i, j))\n",
    "                    tasks.append(task)\n",
    "            await asyncio.gather(*tasks)\n",
    "            \n",
    "\n",
    "    loop = asyncio.get_event_loop()\n",
    "    future = asyncio.ensure_future(main(loop))\n",
    "    loop.run_until_complete(future)\n",
    "    \n",
    "    return contenant"
   ]
  },
  {
   "cell_type": "code",
   "execution_count": 17,
   "metadata": {},
   "outputs": [],
   "source": [
    "test = get_map(23961,33036,20,20)"
   ]
  },
  {
   "cell_type": "code",
   "execution_count": 18,
   "metadata": {
    "collapsed": true
   },
   "outputs": [],
   "source": [
    "Image.fromarray(numpy.concatenate(numpy.concatenate(test, axis= 1 ), axis=1)).save(\"output.jpg\")"
   ]
  },
  {
   "cell_type": "code",
   "execution_count": null,
   "metadata": {
    "collapsed": true
   },
   "outputs": [],
   "source": []
  }
 ],
 "metadata": {
  "kernelspec": {
   "display_name": "Python 3",
   "language": "python",
   "name": "python3"
  },
  "language_info": {
   "codemirror_mode": {
    "name": "ipython",
    "version": 3
   },
   "file_extension": ".py",
   "mimetype": "text/x-python",
   "name": "python",
   "nbconvert_exporter": "python",
   "pygments_lexer": "ipython3",
   "version": "3.7.3"
  }
 },
 "nbformat": 4,
 "nbformat_minor": 2
}
