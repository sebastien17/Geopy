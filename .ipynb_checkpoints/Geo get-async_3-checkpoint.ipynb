{
 "cells": [
  {
   "cell_type": "code",
   "execution_count": 1,
   "metadata": {},
   "outputs": [],
   "source": [
    "#TODO\n",
    "# Integrate Leaflet in area selection\n",
    "# Verify if all tiles are fetched\n",
    "# Export in OruxMap format (!!!)\n",
    "#\n",
    "# long = x, lat = y\n",
    "# Map data geoportail (see for 4umaps.com or OSM)"
   ]
  },
  {
   "cell_type": "code",
   "execution_count": 1,
   "metadata": {},
   "outputs": [],
   "source": [
    "import io\n",
    "import numpy\n",
    "from PIL import Image\n",
    "import aiohttp\n",
    "import asyncio\n",
    "import pyproj\n",
    "from lxml import etree\n",
    "from collections import namedtuple, defaultdict\n",
    "import sqlite3\n",
    "import os  "
   ]
  },
  {
   "cell_type": "code",
   "execution_count": 2,
   "metadata": {},
   "outputs": [],
   "source": [
    "#XML DATA\n",
    "_FILE_PATH = 'wmts.xml'\n",
    "_DEF_NS = {\"foo\": \"http://www.opengis.net/wmts/1.0\",\"ows\":\"http://www.opengis.net/ows/1.1\"}\n",
    "\n",
    "#Type def \n",
    "Coord = namedtuple('Coord', ['lon', 'lat'])"
   ]
  },
  {
   "cell_type": "code",
   "execution_count": 3,
   "metadata": {},
   "outputs": [],
   "source": [
    "base_url = \"https://wxs.ign.fr/an7nvfzojv5wa96dsga5nk8w/geoportail/wmts\"\n",
    "_headers = {\n",
    "        'Accept' : 'text/html,application/xhtml+xml,application/xml;q=0.9,*/*;q=0.8',\n",
    "        'Accept-Encoding': 'gzip, deflate',\n",
    "        'Accept-Language': 'en-US,en;q=0.5',\n",
    "        'Connection': 'keep-alive',\n",
    "        'Host': 'wxs.ign.fr',\n",
    "        'Referer': 'http://www.geoportail.gouv.fr/swf/geoportal-visu-1.3.2.swf',\n",
    "        'User-Agent': 'Mozilla/5.0 (Windows NT 6.1; WOW64; rv:22.0) Gecko/20100101 Firefox/22.0',\n",
    "}\n",
    "default_values = {\n",
    "    'layer' : 'GEOGRAPHICALGRIDSYSTEMS.MAPS.SCAN25TOUR.CV',\n",
    "    'style' : 'normal',\n",
    "    'tilematrixset' : 'PM',\n",
    "    'Service' : 'WMTS',\n",
    "    'Request' : 'GetTile',\n",
    "    'Version' : '1.0.0',\n",
    "    'Format': 'image/jpeg',\n",
    "    'TileMatrix' : 15\n",
    "    }\n",
    "default_values_save = {\n",
    "    'layer' : 'GEOGRAPHICALGRIDSYSTEMS.MAPS.SCAN-EXPRESS.STANDARD',\n",
    "    'style' : 'normal',\n",
    "    'tilematrixset' : 'PM',\n",
    "    'Service' : 'WMTS',\n",
    "    'Request' : 'GetTile',\n",
    "    'Version' : '1.0.0',\n",
    "    'Format': 'image/jpeg',\n",
    "    'TileMatrix' : 16\n",
    "    }\n",
    "#to get more info : https://wxs.ign.fr/an7nvfzojv5wa96dsga5nk8w/geoportail/wmts?Service=WMTS&Request=GetCapabilities&Version=1.0.0&Layer=GEOGRAPHICALGRIDSYSTEMS.MAPS.SCAN25TOUR.CV"
   ]
  },
  {
   "cell_type": "code",
   "execution_count": 4,
   "metadata": {},
   "outputs": [],
   "source": [
    "def get_scale_denom_info(file):\n",
    "    \"\"\"Return dict with tile matrix set identifier, zoom(scale), scale denom(meters/pixel)\"\"\"\n",
    "    data = {}\n",
    "    tree = etree.parse(_FILE_PATH)\n",
    "    \n",
    "    TileMatrixSets = tree.xpath('/foo:Capabilities/foo:Contents/foo:TileMatrixSet', namespaces = _DEF_NS)\n",
    "    for tilematrixset in TileMatrixSets:\n",
    "        identifier = tilematrixset.find('ows:Identifier', namespaces = _DEF_NS).text\n",
    "        supportedcrs = tilematrixset.find('ows:SupportedCRS', namespaces = _DEF_NS).text\n",
    "        data[identifier] = {}\n",
    "        data[identifier]['supportedcrs'] = supportedcrs\n",
    "        TileMatrixes = tilematrixset.findall('foo:TileMatrix', namespaces = _DEF_NS)\n",
    "        for tilematrix in TileMatrixes:\n",
    "            scale = tilematrix.find('ows:Identifier', namespaces = _DEF_NS).text\n",
    "            #Dénominateur d'échelle = résolution / taille pixel ; taille de pixel arbitraire = 0.00028 m\n",
    "            scale_denom = float(tilematrix.find('foo:ScaleDenominator', namespaces = _DEF_NS).text) * 0.00028 \n",
    "            data[identifier][scale]=scale_denom\n",
    "            str_ref = tilematrix.find('foo:TopLeftCorner', namespaces = _DEF_NS).text\n",
    "            (data[identifier]['X_ref'],data[identifier]['Y_ref']) =  map(float, str_ref.split(\" \"))\n",
    "    return data"
   ]
  },
  {
   "cell_type": "code",
   "execution_count": 5,
   "metadata": {},
   "outputs": [],
   "source": [
    "#Get all information about tile sets\n",
    "MATRIX_SET_DATA = get_scale_denom_info(_FILE_PATH)"
   ]
  },
  {
   "cell_type": "code",
   "execution_count": 7,
   "metadata": {},
   "outputs": [],
   "source": [
    "def convert_coord(long_lat, matrix_data, zoom, projection):\n",
    "    \"\"\"convert decimals coords into Web Mercator coords into tile coords\"\"\"\n",
    "    #See https://geoservices.ign.fr/documentation/geoservices/wmts.html \n",
    "    \n",
    "    long_lat_ref = pyproj.Proj(init='epsg:4326')\n",
    "    \n",
    "    final_proj = pyproj.Proj(init=matrix_data[projection]['supportedcrs'])\n",
    "    tile_res = matrix_data[projection][str(zoom)]*256 #256 pixel per tile in x and y\n",
    "    \n",
    "    #Web Mercator\n",
    "    (x, y) = pyproj.transform(long_lat_ref, final_proj, long_lat[0], long_lat[1])\n",
    "\n",
    "    # Get the top left corner\n",
    "    (x0, y0) = (matrix_data[projection]['X_ref'], matrix_data[projection]['Y_ref'])\n",
    "    \n",
    "    #Tile coords depending on matrix_data (see get_scale_denom_info function)\n",
    "    (xf, yf) = (int((x - x0) / tile_res), int((y0 - y) / tile_res))\n",
    "    print(\"Zoom: \"+ str(zoom) +\" Tile Rez: \" + str(tile_res)+ \" X,Y: \"+str(xf)+\",\"+str(yf))\n",
    "        \n",
    "    return(xf, yf)"
   ]
  },
  {
   "cell_type": "code",
   "execution_count": 8,
   "metadata": {},
   "outputs": [],
   "source": [
    "def gpCoor2LongLat(geop_coord, matrix_data, zoom, projection):\n",
    "    #Return the top left corner gps coordonnate in decimals long/lat from tile (x,y) coordonnates\n",
    "    \n",
    "    # Get the top left corner\n",
    "    (x0, y0) = (matrix_data[projection]['X_ref'], matrix_data[projection]['Y_ref'])\n",
    "    \n",
    "    #Tile Resolution + size\n",
    "    tile_res = matrix_data[projection][str(zoom)]*256 #256 pixel per tile in x and y\n",
    "    \n",
    "    #Taking into account tile res + ref changes ==> Web mercator coordonnates\n",
    "    _temp =   Coord._make((tile_res*geop_coord.lon+x0, y0 - tile_res*geop_coord.lat))\n",
    "    \n",
    "    #Projection in decimal \n",
    "    long_lat_ref= pyproj.Proj(init=matrix_data[projection]['supportedcrs'])\n",
    "    final_proj = pyproj.Proj(init='epsg:4326')\n",
    "    \n",
    "    dec_coord = Coord._make(pyproj.transform(long_lat_ref, final_proj, _temp.lon, _temp.lat))\n",
    "    \n",
    "    return dec_coord"
   ]
  },
  {
   "cell_type": "code",
   "execution_count": 9,
   "metadata": {},
   "outputs": [
    {
     "data": {
      "text/plain": [
       "Coord(lon=1.4501953124999603, lat=43.81867485545324)"
      ]
     },
     "execution_count": 9,
     "metadata": {},
     "output_type": "execute_result"
    }
   ],
   "source": [
    "#X,Y : Coord(lon=8258, lat=5969) ==> Decimal : Coord(lon=1.4501953124999603, lat=43.81867485545324)\n",
    "gpCoor2LongLat(Coord(lon=8258, lat=5969), MATRIX_SET_DATA, 14, \"PM\")"
   ]
  },
  {
   "cell_type": "code",
   "execution_count": 25,
   "metadata": {},
   "outputs": [],
   "source": [
    "def get_map(long_lat_1, long_lat_2, zoom = 15, projection = \"PM\"):\n",
    "    \n",
    "    #Map limits\n",
    "    top_left_corner = Coord._make(convert_coord((min(long_lat_1[0],long_lat_2[0]),max(long_lat_1[1],long_lat_2[1])),\n",
    "                                    MATRIX_SET_DATA, zoom, projection))\n",
    "        \n",
    "    bot_right_corner = Coord._make(convert_coord((max(long_lat_1[0],long_lat_2[0]),min(long_lat_1[1],long_lat_2[1])),\n",
    "                                     MATRIX_SET_DATA, zoom, projection))\n",
    "    \n",
    "    \n",
    "    range_lon_lat = Coord._make((bot_right_corner[0] - top_left_corner[0] + 1,bot_right_corner[1] - top_left_corner[1] + 1))\n",
    "    print(top_left_corner)\n",
    "    print(range_lon_lat)\n",
    "    \n",
    "    #Initialization of data contenant\n",
    "    #contenant = numpy.empty([range_lon_lat.lat,range_lon_lat.lon,256,256,3], dtype = 'uint8')\n",
    "    \n",
    "    #z,x,y\n",
    "    nested_dict = lambda: defaultdict(nested_dict)\n",
    "    contenant_db = nested_dict()    \n",
    "    \n",
    "    async def put_tile(session, i, j, zoom):\n",
    "        data = await get_tile(session, i + top_left_corner.lon, j + top_left_corner.lat, zoom)\n",
    "        #contenant[j][i] = Image.open(io.BytesIO(data))\n",
    "        contenant_db[zoom][i][j] = io.BytesIO(data)\n",
    "    async def get_tile(session, i, j, zoom):\n",
    "        _values = default_values\n",
    "        _values['TileCol'] = i\n",
    "        _values['TileRow'] = j\n",
    "        _values['TileMatrix'] = zoom\n",
    "\n",
    "        async with session.request('GET', base_url, params = _values) as resp:\n",
    "            assert(resp.status == 200)\n",
    "            return await  resp.read()\n",
    "        \n",
    "    async def main(loop):\n",
    "        tasks = []\n",
    "        async with aiohttp.ClientSession(loop=loop, headers = _headers ) as session:\n",
    "            for j in range(0, range_lon_lat.lat):\n",
    "                for i in range(0,range_lon_lat.lon):\n",
    "                    task = asyncio.create_task(put_tile(session, i, j, zoom))\n",
    "                    tasks.append(task)\n",
    "            await asyncio.wait(tasks)\n",
    "            \n",
    "\n",
    "    loop = asyncio.get_event_loop()\n",
    "    loop.create_task(main(loop))\n",
    "    \n",
    "    return contenant_db"
   ]
  },
  {
   "cell_type": "code",
   "execution_count": 26,
   "metadata": {},
   "outputs": [
    {
     "name": "stdout",
     "output_type": "stream",
     "text": [
      "Zoom: 15 Tile Rez: 1222.99245256282 X,Y: 16524,11962\n",
      "Zoom: 15 Tile Rez: 1222.99245256282 X,Y: 16529,11965\n",
      "Coord(lon=16524, lat=11962)\n",
      "Coord(lon=6, lat=4)\n"
     ]
    }
   ],
   "source": [
    "#Mons (1.543875, 43.624614),(1.594816, 43.598047)\n",
    "#Best zoom layer 15\n",
    "test = get_map((1.543875, 43.624614),(1.594816, 43.598047), zoom = 15)"
   ]
  },
  {
   "cell_type": "code",
   "execution_count": 10,
   "metadata": {},
   "outputs": [
    {
     "data": {
      "text/plain": [
       "Coord(lon=1.538085937499958, lat=43.62812341212462)"
      ]
     },
     "execution_count": 10,
     "metadata": {},
     "output_type": "execute_result"
    }
   ],
   "source": [
    "gpCoor2LongLat(Coord(lon=16524, lat=11962), MATRIX_SET_DATA, 15, \"PM\")"
   ]
  },
  {
   "cell_type": "code",
   "execution_count": 11,
   "metadata": {},
   "outputs": [
    {
     "data": {
      "text/plain": [
       "Coord(lon=1.5930175781249816, lat=43.6042618680962)"
      ]
     },
     "execution_count": 11,
     "metadata": {},
     "output_type": "execute_result"
    }
   ],
   "source": [
    "gpCoor2LongLat(Coord(lon=16524 + 5, lat=11962 + 3), MATRIX_SET_DATA, 15, \"PM\")"
   ]
  },
  {
   "cell_type": "code",
   "execution_count": 13,
   "metadata": {},
   "outputs": [],
   "source": [
    "#Image.fromarray(numpy.concatenate(numpy.concatenate(test, axis= 1 ), axis=1)).save(\"output.jpg\")"
   ]
  },
  {
   "cell_type": "code",
   "execution_count": 22,
   "metadata": {},
   "outputs": [],
   "source": [
    "_MAP_FILE_NAME = 'OruxMapEx.db'\n",
    "if os.path.isfile(_MAP_FILE_NAME):\n",
    "    os.remove(_MAP_FILE_NAME)\n",
    "conn = sqlite3.connect(_MAP_FILE_NAME)\n",
    "c = conn.cursor()\n",
    "# Create table\n",
    "c.execute('''CREATE TABLE android_metadata (locale TEXT)''')\n",
    "c.execute('''CREATE TABLE tiles (x int, y int, z int, image blob, PRIMARY KEY (x,y,z))''')\n",
    "c.execute('''CREATE INDEX IND on tiles (x,y,z)''')\n",
    "c.execute('''INSERT INTO android_metadata (locale) VALUES (?)''', ('fr_FR'))\n",
    "for z,_z in test.items():\n",
    "    for x,_x in _z.items():\n",
    "        for y,_y in _x.items():\n",
    "            f\"x,y,z\"\n",
    "            c.execute('''INSERT INTO tiles (x,y,z,image) VALUES (?,?,?,?)''', (x,y,z,sqlite3.Binary(_y.read())))\n",
    "# Save (commit) the changes\n",
    "conn.commit()\n",
    "\n",
    "# We can also close the connection if we are done with it.\n",
    "# Just be sure any changes have been committed or they will be lost.\n",
    "conn.close()            \n"
   ]
  },
  {
   "cell_type": "code",
   "execution_count": null,
   "metadata": {},
   "outputs": [],
   "source": []
  }
 ],
 "metadata": {
  "kernelspec": {
   "display_name": "Python 3",
   "language": "python",
   "name": "python3"
  },
  "language_info": {
   "codemirror_mode": {
    "name": "ipython",
    "version": 3
   },
   "file_extension": ".py",
   "mimetype": "text/x-python",
   "name": "python",
   "nbconvert_exporter": "python",
   "pygments_lexer": "ipython3",
   "version": "3.7.3"
  }
 },
 "nbformat": 4,
 "nbformat_minor": 4
}
