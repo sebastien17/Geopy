{
 "cells": [
  {
   "cell_type": "code",
   "execution_count": 2,
   "metadata": {},
   "outputs": [],
   "source": [
    "import numpy, gpxpy, pandas"
   ]
  },
  {
   "cell_type": "code",
   "execution_count": 43,
   "metadata": {
    "collapsed": true
   },
   "outputs": [],
   "source": [
    "_FILE_PATH = 'utgtrack-pech-david.gpx'"
   ]
  },
  {
   "cell_type": "code",
   "execution_count": 45,
   "metadata": {},
   "outputs": [],
   "source": [
    "with open(_FILE_PATH) as _file : \n",
    "    gpx_data = gpxpy.parse(_file)"
   ]
  },
  {
   "cell_type": "code",
   "execution_count": 31,
   "metadata": {},
   "outputs": [
    {
     "name": "stdout",
     "output_type": "stream",
     "text": [
      "1 track(s)\n",
      "1 segment(s)\n",
      "513 point(s)\n"
     ]
    }
   ],
   "source": [
    "print(\"{} track(s)\".format(len(gpx.tracks)))\n",
    "track = gpx.tracks[0]\n",
    "\n",
    "print(\"{} segment(s)\".format(len(track.segments)))\n",
    "segment = track.segments[0]\n",
    "\n",
    "print(\"{} point(s)\".format(len(segment.points)))"
   ]
  },
  {
   "cell_type": "code",
   "execution_count": 37,
   "metadata": {},
   "outputs": [],
   "source": [
    "data = []\n",
    "\n",
    "segment_length = segment.length_3d()\n",
    "\n",
    "for point_idx, point in enumerate(segment.points):\n",
    "    data.append([point.longitude, point.latitude, point.elevation, point.time, segment.get_speed(point_idx)])\n",
    "    \n",
    "from pandas import DataFrame\n",
    "\n",
    "columns = ['Longitude', 'Latitude', 'Altitude', 'Time', 'Speed']\n",
    "df = DataFrame(data, columns=columns)"
   ]
  },
  {
   "cell_type": "code",
   "execution_count": 40,
   "metadata": {},
   "outputs": [],
   "source": [
    "limits = {\n",
    "    'min_lon':df.Longitude.min(),\n",
    "    'max_lon':df.Longitude.max(),\n",
    "    'min_lat':df.Latitude.min(),\n",
    "    'max_lat':df.Latittude.max() \n",
    "         }"
   ]
  },
  {
   "cell_type": "code",
   "execution_count": 41,
   "metadata": {},
   "outputs": [
    {
     "data": {
      "text/plain": [
       "{'min_lon': 1.4408300000000001}"
      ]
     },
     "execution_count": 41,
     "metadata": {},
     "output_type": "execute_result"
    }
   ],
   "source": [
    "limits"
   ]
  }
 ],
 "metadata": {
  "kernelspec": {
   "display_name": "Python 3",
   "language": "python",
   "name": "python3"
  },
  "language_info": {
   "codemirror_mode": {
    "name": "ipython",
    "version": 3
   },
   "file_extension": ".py",
   "mimetype": "text/x-python",
   "name": "python",
   "nbconvert_exporter": "python",
   "pygments_lexer": "ipython3",
   "version": "3.6.1"
  }
 },
 "nbformat": 4,
 "nbformat_minor": 2
}
