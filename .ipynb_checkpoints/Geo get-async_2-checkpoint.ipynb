{
 "cells": [
  {
   "cell_type": "code",
   "execution_count": 2,
   "metadata": {},
   "outputs": [],
   "source": [
    "import io\n",
    "import numpy\n",
    "from PIL import Image\n",
    "import aiohttp\n",
    "import asyncio\n",
    "import pyproj"
   ]
  },
  {
   "cell_type": "code",
   "execution_count": 25,
   "metadata": {},
   "outputs": [],
   "source": [
    "base_url = \"https://wxs.ign.fr/an7nvfzojv5wa96dsga5nk8w/geoportail/wmts\"\n",
    "_headers = {\n",
    "        'Accept' : 'text/html,application/xhtml+xml,application/xml;q=0.9,*/*;q=0.8',\n",
    "        'Accept-Encoding': 'gzip, deflate',\n",
    "        'Accept-Language': 'en-US,en;q=0.5',\n",
    "        'Connection': 'keep-alive',\n",
    "        'Host': 'wxs.ign.fr',\n",
    "        'Referer': 'http://www.geoportail.gouv.fr/swf/geoportal-visu-1.3.2.swf',\n",
    "        'User-Agent': 'Mozilla/5.0 (Windows NT 6.1; WOW64; rv:22.0) Gecko/20100101 Firefox/22.0',\n",
    "}\n",
    "default_values = {\n",
    "    'layer' : 'GEOGRAPHICALGRIDSYSTEMS.MAPS.SCAN25TOUR.CV',\n",
    "    'style' : 'normal',\n",
    "    'tilematrixset' : 'PM',\n",
    "    'Service' : 'WMTS',\n",
    "    'Request' : 'GetTile',\n",
    "    'Version' : '1.0.0',\n",
    "    'Format': 'image/jpeg',\n",
    "    'TileMatrix' : 15\n",
    "    }\n",
    "default_values_save = {\n",
    "    'layer' : 'GEOGRAPHICALGRIDSYSTEMS.MAPS.SCAN-EXPRESS.STANDARD',\n",
    "    'style' : 'normal',\n",
    "    'tilematrixset' : 'PM',\n",
    "    'Service' : 'WMTS',\n",
    "    'Request' : 'GetTile',\n",
    "    'Version' : '1.0.0',\n",
    "    'Format': 'image/jpeg',\n",
    "    'TileMatrix' : 16\n",
    "    }\n",
    "#to get more info : https://wxs.ign.fr/an7nvfzojv5wa96dsga5nk8w/geoportail/wmts?Service=WMTS&Request=GetCapabilities&Version=1.0.0&Layer=GEOGRAPHICALGRIDSYSTEMS.MAPS.SCAN25TOUR.CV"
   ]
  },
  {
   "cell_type": "code",
   "execution_count": 29,
   "metadata": {},
   "outputs": [],
   "source": [
    "def convert_coord(lat_init, long_init, projection = \"WMS\", zoom = 16):\n",
    "    \"\"\"convert decimals coords into Web Mercator coords\"\"\"\n",
    "    #See https://geoservices.ign.fr/documentation/geoservices/wmts.html \n",
    "    #data\n",
    "    res_WMS = [156543.0339280410,78271.5169640205,39135.7584820102,19567.8792410051,9783.9396205026,4891.9698102513,2445.9849051256,1222.9924525628,611.4962262814,305.7481131407,152.8740565704,76.4370282852,38.2185141426,19.1092570713,9.5546285356,4.7773142678,2.3886571339,1.1943285670,0.5971642835,0.2985821417,0.1492910709,0.0746455354]\n",
    "    res_L93 = [104579.2245498940,52277.5323537905,26135.4870785954,13066.8913818000,6533.2286041135,3266.5595244627,1633.2660045974,816.6295549860,408.3139146768,204.1567415109,102.0783167832,51.0391448966,25.5195690743,12.7597836936,6.3798916360,3.1899457653,1.5949728695,0.7974864315,0.3987432149,0.1993716073,0.0996858037,0.0498429018]\n",
    "    \n",
    "    long_lat = pyproj.Proj(init='epsg:4326')\n",
    "    \n",
    "    if(projection == \"L93\"):\n",
    "        final_proj = pyproj.Proj(init='epsg:2154')\n",
    "        tile_res_mat = res_L93\n",
    "    else:\n",
    "        final_proj = pyproj.Proj(init='epsg:3857')\n",
    "        tile_res_mat = res_WMS\n",
    "    \n",
    "    (x, y) = pyproj.transform(long_lat, final_proj, long_init, lat_init)\n",
    "\n",
    "    # Convert to get the tiles\n",
    "    # Get the top left corner\n",
    "    x0, y0 = -20037508, 20037508\n",
    "    #step = tile_res_mat[zoom]\n",
    "    #step = 611.4962262814\n",
    "    step = 1222.9924525628\n",
    "    xf = int((x - x0) / step)\n",
    "    yf = int((y0 - y) / step) \n",
    "    print(step)\n",
    "    print(xf,yf)\n",
    "    \n",
    "    return(xf, yf)"
   ]
  },
  {
   "cell_type": "code",
   "execution_count": 9,
   "metadata": {},
   "outputs": [],
   "source": [
    "def get_map(lat, long, row_number, col_number):\n",
    "    \n",
    "    contenant = numpy.empty([row_number,col_number,256,256,3], dtype = 'uint8')\n",
    "\n",
    "    async def put_tile(session, Row, Col):\n",
    "        start_col, start_row = convert_coord(lat, long)\n",
    "        data = await get_tile(session, start_row+Row, start_col+Col)\n",
    "        contenant[Row][Col] = Image.open(io.BytesIO(data))\n",
    "        \n",
    "    async def get_tile(session, Row, Col):\n",
    "        _values = default_values\n",
    "        _values['TileCol'] = Col\n",
    "        _values['TileRow'] = Row\n",
    "\n",
    "        async with session.request('GET', base_url, params = _values) as resp:\n",
    "            print(resp.status)\n",
    "            assert resp.status == 200\n",
    "            return await  resp.read()\n",
    "        \n",
    "    async def main(loop):\n",
    "        tasks = []\n",
    "        async with aiohttp.ClientSession(loop=loop, headers = _headers ) as session:\n",
    "            for j in range(0,col_number):\n",
    "                for i in range(0,row_number):\n",
    "                    task = asyncio.ensure_future(put_tile(session, i, j))\n",
    "                    tasks.append(task)\n",
    "            await asyncio.gather(*tasks)\n",
    "            \n",
    "\n",
    "    loop = asyncio.get_event_loop()\n",
    "    loop.create_task(main(loop))\n",
    "    \n",
    "    return contenant"
   ]
  },
  {
   "cell_type": "code",
   "execution_count": 30,
   "metadata": {},
   "outputs": [
    {
     "name": "stdout",
     "output_type": "stream",
     "text": [
      "1222.9924525628\n",
      "16516 11964\n",
      "200\n"
     ]
    }
   ],
   "source": [
    "test = get_map(43.611715,1.4566024,1,1)"
   ]
  },
  {
   "cell_type": "code",
   "execution_count": 31,
   "metadata": {},
   "outputs": [],
   "source": [
    "Image.fromarray(numpy.concatenate(numpy.concatenate(test, axis= 1 ), axis=1)).save(\"output.jpg\")"
   ]
  },
  {
   "cell_type": "code",
   "execution_count": 20,
   "metadata": {},
   "outputs": [],
   "source": [
    "res_WMS = [156543.0339280410,78271.5169640205,39135.7584820102,19567.8792410051,9783.9396205026,4891.9698102513,2445.9849051256,1222.9924525628,611.4962262814,305.7481131407,152.8740565704,76.4370282852,38.2185141426,19.1092570713,9.5546285356,4.7773142678,2.3886571339,1.1943285670,0.5971642835,0.2985821417,0.1492910709,0.0746455354]"
   ]
  },
  {
   "cell_type": "code",
   "execution_count": 21,
   "metadata": {},
   "outputs": [
    {
     "data": {
      "text/plain": [
       "2.3886571339"
      ]
     },
     "execution_count": 21,
     "metadata": {},
     "output_type": "execute_result"
    }
   ],
   "source": [
    "res_WMS[16]"
   ]
  }
 ],
 "metadata": {
  "kernelspec": {
   "display_name": "Python 3",
   "language": "python",
   "name": "python3"
  },
  "language_info": {
   "codemirror_mode": {
    "name": "ipython",
    "version": 3
   },
   "file_extension": ".py",
   "mimetype": "text/x-python",
   "name": "python",
   "nbconvert_exporter": "python",
   "pygments_lexer": "ipython3",
   "version": "3.7.3"
  }
 },
 "nbformat": 4,
 "nbformat_minor": 2
}
