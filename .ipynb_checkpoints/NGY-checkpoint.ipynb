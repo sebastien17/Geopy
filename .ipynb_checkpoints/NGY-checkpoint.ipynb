{
 "cells": [
  {
   "cell_type": "code",
   "execution_count": 1,
   "metadata": {
    "collapsed": true
   },
   "outputs": [],
   "source": [
    "import io, numpy\n",
    "from PIL import Image\n",
    "import aiohttp, asyncio\n",
    "import pyproj, gpxpy"
   ]
  },
  {
   "cell_type": "code",
   "execution_count": 6,
   "metadata": {
    "collapsed": true
   },
   "outputs": [],
   "source": [
    "#Configuration Variables\n",
    "\n",
    "_FILE_PATH = 'utgtrack-pech-david.gpx'\n",
    "\n",
    "base_url = \"https://wxs.ign.fr/an7nvfzojv5wa96dsga5nk8w/geoportail/wmts\"\n",
    "\n",
    "_headers = {\n",
    "        'Accept' : 'text/html,application/xhtml+xml,application/xml;q=0.9,*/*;q=0.8',\n",
    "        'Accept-Encoding': 'gzip, deflate',\n",
    "        'Accept-Language': 'en-US,en;q=0.5',\n",
    "        'Connection': 'keep-alive',\n",
    "        'Host': 'wxs.ign.fr',\n",
    "        'Referer': 'http://www.geoportail.gouv.fr/swf/geoportal-visu-1.3.2.swf',\n",
    "        'User-Agent': 'Mozilla/5.0 (Windows NT 6.1; WOW64; rv:22.0) Gecko/20100101 Firefox/22.0',\n",
    "    }\n",
    "\n",
    "default_values = {\n",
    "    'layer' : 'GEOGRAPHICALGRIDSYSTEMS.MAPS.SCAN-EXPRESS.STANDARD',\n",
    "    'style' : 'normal',\n",
    "    'tilematrixset' : 'PM',\n",
    "    'Service' : 'WMTS',\n",
    "    'Request' : 'GetTile',\n",
    "    'Version' : '1.0.0',\n",
    "    'Format': 'image/jpeg',\n",
    "    'TileMatrix' : 16\n",
    "    }"
   ]
  },
  {
   "cell_type": "code",
   "execution_count": 4,
   "metadata": {
    "collapsed": true
   },
   "outputs": [],
   "source": [
    "def gpx_bounds(file_path):\n",
    "    \"\"\"Returns GPX Bound object from gpx file\"\"\"\n",
    "    with open(_FILE_PATH) as _file : \n",
    "        gpx_data = gpxpy.parse(_file)\n",
    "    return gpx_data.get_bounds()"
   ]
  },
  {
   "cell_type": "code",
   "execution_count": null,
   "metadata": {
    "collapsed": true
   },
   "outputs": [],
   "source": [
    "def convert_coord(lat_init, long_init):\n",
    "        \"\"\"convert decimals coords into Web Mercator coords\"\"\"\n",
    "        long_lat = pyproj.Proj(init='epsg:4326')\n",
    "        web_mercator = pyproj.Proj(init='epsg:3857')\n",
    "        x, y = pyproj.transform(long_lat, web_mercator, long_init, lat_init)\n",
    "\n",
    "        # Convert to get the tiles\n",
    "        # Get the top left corner\n",
    "        x0, y0 = -20037508, 20037508\n",
    "        step_16 = 611.496226278\n",
    "        xf = int((x - x0) / step_16)\n",
    "        yf = int((y0 - y) / step_16) \n",
    "\n",
    "        return(xf, yf)"
   ]
  },
  {
   "cell_type": "code",
   "execution_count": null,
   "metadata": {
    "collapsed": true
   },
   "outputs": [],
   "source": [
    "def get_map(lat, long, row_number, col_number):\n",
    "    \n",
    "    contenant = numpy.empty([row_number,col_number,256,256,3], dtype = 'uint8')\n",
    "\n",
    "    def convert_coord(lat_init, long_init):\n",
    "        # convert decimals coords into Web Mercator coords\n",
    "        long_lat = pyproj.Proj(init='epsg:4326')\n",
    "        web_mercator = pyproj.Proj(init='epsg:3857')\n",
    "        x, y = pyproj.transform(long_lat, web_mercator, long_init, lat_init)\n",
    "\n",
    "        # Convert to get the tiles\n",
    "        # Get the top left corner\n",
    "        x0, y0 = -20037508, 20037508\n",
    "        step_16 = 611.496226278\n",
    "        xf = int((x - x0) / step_16)\n",
    "        yf = int((y0 - y) / step_16) \n",
    "\n",
    "        return xf, yf\n",
    "\n",
    "    async def put_tile(session, Row, Col):\n",
    "        start_col, start_row = convert_coord(lat, long)\n",
    "        data = await get_tile(session, start_row+Row, start_col+Col)\n",
    "        contenant[Row][Col] = Image.open(io.BytesIO(data))\n",
    "        \n",
    "    async def get_tile(session, Row, Col):\n",
    "        _values = default_values\n",
    "        t_values = test_values\n",
    "        t_values['TileCol'] = _values['TileCol'] = Col\n",
    "        t_values['TileRow'] = _values['TileRow'] = Row\n",
    "\n",
    "        async with session.request('GET', base_url, params = _values) as resp:\n",
    "            print(resp.status)\n",
    "            assert resp.status == 200\n",
    "            return await  resp.read()\n",
    "        \n",
    "    async def main(loop):\n",
    "        tasks = []\n",
    "        async with aiohttp.ClientSession(loop=loop, headers = _headers ) as session:\n",
    "            for j in range(0,col_number):\n",
    "                for i in range(0,row_number):\n",
    "                    task = asyncio.ensure_future(put_tile(session, i, j))\n",
    "                    tasks.append(task)\n",
    "            await asyncio.gather(*tasks)\n",
    "            \n",
    "\n",
    "    loop = asyncio.get_event_loop()\n",
    "    future = asyncio.ensure_future(main(loop))\n",
    "    loop.run_until_complete(future)\n",
    "    \n",
    "    return contenant"
   ]
  }
 ],
 "metadata": {
  "kernelspec": {
   "display_name": "Python 3",
   "language": "python",
   "name": "python3"
  },
  "language_info": {
   "codemirror_mode": {
    "name": "ipython",
    "version": 3
   },
   "file_extension": ".py",
   "mimetype": "text/x-python",
   "name": "python",
   "nbconvert_exporter": "python",
   "pygments_lexer": "ipython3",
   "version": "3.6.1"
  }
 },
 "nbformat": 4,
 "nbformat_minor": 2
}
