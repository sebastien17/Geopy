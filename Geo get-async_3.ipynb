{
 "cells": [
  {
   "cell_type": "code",
   "execution_count": 1,
   "metadata": {},
   "outputs": [],
   "source": [
    "#TODO\n",
    "# Integrate Leaflet in area selection\n",
    "# Verify if all tiles are fetched\n",
    "# Export in OruxMap format (!!!)\n",
    "#\n",
    "# long = x, lat = y\n",
    "# Map data geoportail (see for 4umaps.com or OSM)"
   ]
  },
  {
   "cell_type": "code",
   "execution_count": 2,
   "metadata": {},
   "outputs": [],
   "source": [
    "import io\n",
    "import numpy\n",
    "from PIL import Image\n",
    "import aiohttp\n",
    "import asyncio\n",
    "import pyproj\n",
    "from lxml import etree"
   ]
  },
  {
   "cell_type": "code",
   "execution_count": 3,
   "metadata": {},
   "outputs": [],
   "source": [
    "#XML DATA\n",
    "_FILE_PATH = 'wmts.xml'\n",
    "_DEF_NS = {\"foo\": \"http://www.opengis.net/wmts/1.0\",\"ows\":\"http://www.opengis.net/ows/1.1\"}"
   ]
  },
  {
   "cell_type": "code",
   "execution_count": 4,
   "metadata": {},
   "outputs": [],
   "source": [
    "base_url = \"https://wxs.ign.fr/an7nvfzojv5wa96dsga5nk8w/geoportail/wmts\"\n",
    "_headers = {\n",
    "        'Accept' : 'text/html,application/xhtml+xml,application/xml;q=0.9,*/*;q=0.8',\n",
    "        'Accept-Encoding': 'gzip, deflate',\n",
    "        'Accept-Language': 'en-US,en;q=0.5',\n",
    "        'Connection': 'keep-alive',\n",
    "        'Host': 'wxs.ign.fr',\n",
    "        'Referer': 'http://www.geoportail.gouv.fr/swf/geoportal-visu-1.3.2.swf',\n",
    "        'User-Agent': 'Mozilla/5.0 (Windows NT 6.1; WOW64; rv:22.0) Gecko/20100101 Firefox/22.0',\n",
    "}\n",
    "#to get more info : https://wxs.ign.fr/an7nvfzojv5wa96dsga5nk8w/geoportail/wmts?Service=WMTS&Request=GetCapabilities&Version=1.0.0&Layer=GEOGRAPHICALGRIDSYSTEMS.MAPS.SCAN25TOUR.CV"
   ]
  },
  {
   "cell_type": "code",
   "execution_count": 5,
   "metadata": {},
   "outputs": [],
   "source": [
    "def get_scale_denom_info(file):\n",
    "    \"\"\"Return dict with tile matrix set identifier, zoom(scale), scale denom(meters/pixel)\"\"\"\n",
    "    data = {}\n",
    "    tree = etree.parse(_FILE_PATH)\n",
    "    \n",
    "    TileMatrixSets = tree.xpath('/foo:Capabilities/foo:Contents/foo:TileMatrixSet', namespaces = _DEF_NS)\n",
    "    for tilematrixset in TileMatrixSets:\n",
    "        identifier = tilematrixset.find('ows:Identifier', namespaces = _DEF_NS).text\n",
    "        supportedcrs = tilematrixset.find('ows:SupportedCRS', namespaces = _DEF_NS).text\n",
    "        data[identifier] = {}\n",
    "        data[identifier]['supportedcrs'] = supportedcrs\n",
    "        TileMatrixes = tilematrixset.findall('foo:TileMatrix', namespaces = _DEF_NS)\n",
    "        for tilematrix in TileMatrixes:\n",
    "            scale = tilematrix.find('ows:Identifier', namespaces = _DEF_NS).text\n",
    "            #Dénominateur d'échelle = résolution / taille pixel ; taille de pixel arbitraire = 0.00028 m\n",
    "            scale_denom = float(tilematrix.find('foo:ScaleDenominator', namespaces = _DEF_NS).text) * 0.00028 \n",
    "            data[identifier][scale]=scale_denom\n",
    "            str_ref = tilematrix.find('foo:TopLeftCorner', namespaces = _DEF_NS).text\n",
    "            (data[identifier]['X_ref'],data[identifier]['Y_ref']) =  map(float, str_ref.split(\" \"))\n",
    "    return data"
   ]
  },
  {
   "cell_type": "code",
   "execution_count": 6,
   "metadata": {},
   "outputs": [],
   "source": [
    "#Get all information about tile sets\n",
    "MATRIX_SET_DATA = get_scale_denom_info(_FILE_PATH)"
   ]
  },
  {
   "cell_type": "code",
   "execution_count": 7,
   "metadata": {},
   "outputs": [],
   "source": [
    "def convert_coord(long_lat, matrix_data, zoom, projection ):\n",
    "    \"\"\"convert decimals coords into Web Mercator coords into tile coords\"\"\"\n",
    "    #See https://geoservices.ign.fr/documentation/geoservices/wmts.html \n",
    "    \n",
    "    long_lat_ref = pyproj.Proj(init='epsg:4326')\n",
    "    \n",
    "    final_proj = pyproj.Proj(init=matrix_data[projection]['supportedcrs'])\n",
    "    tile_res = matrix_data[projection][str(zoom)]*256 #256 pixel per tile\n",
    "    \n",
    "    #Web Mercator\n",
    "    (x, y) = pyproj.transform(long_lat_ref, final_proj, long_lat[0], long_lat[1])\n",
    "\n",
    "    # Get the top left corner\n",
    "    (x0, y0) = (matrix_data[projection]['X_ref'], matrix_data[projection]['Y_ref'])\n",
    "    \n",
    "    #Tile coords depending on matrix_data (see get_scale_denom_info function)\n",
    "    (xf, yf) = (int((x - x0) / tile_res), int((y0 - y) / tile_res))\n",
    "    print(\"Zoom: \"+ str(zoom) +\" Tile Rez: \" + str(tile_res)+ \" X,Y: \"+str(xf)+\",\"+str(yf))\n",
    "        \n",
    "    return(xf, yf)"
   ]
  },
  {
   "cell_type": "code",
   "execution_count": 8,
   "metadata": {},
   "outputs": [],
   "source": [
    "def get_map(long_lat_1, long_lat_2, zoom = 15, projection = \"PM\"):\n",
    "    \n",
    "    #Map limits\n",
    "    top_left_corner = convert_coord((min(long_lat_1[0],long_lat_2[0]),max(long_lat_1[1],long_lat_2[1])),\n",
    "                                    MATRIX_SET_DATA, zoom, projection)\n",
    "        \n",
    "    bot_right_corner = convert_coord((max(long_lat_1[0],long_lat_2[0]),min(long_lat_1[1],long_lat_2[1])),\n",
    "                                     MATRIX_SET_DATA, zoom, projection)\n",
    "    \n",
    "    #Initialization of data contenant\n",
    "    contenant = numpy.empty([top_left_corner[1]-bot_right_corner[1]+1,bot_right_corner[0]-top_left_corner[0]+1,256,256,3], dtype = 'uint8')\n",
    "        \n",
    "    \n",
    "    async def put_tile(session, i, j, zoom):\n",
    "        #data = await get_tile(session, i, j, zoom)\n",
    "        contenant[Row][Col] = Image.open(io.BytesIO(data))\n",
    "        \n",
    "    async def get_tile(session, i, j, zoom):\n",
    "        _values = default_values\n",
    "        _values['TileCol'] = i\n",
    "        _values['TileRow'] = j\n",
    "        _values['TileMatrix'] = zoom\n",
    "\n",
    "        async with session.request('GET', base_url, params = _values) as resp:\n",
    "            print(resp.status)\n",
    "            assert resp.status == 200\n",
    "            return await  resp.read()\n",
    "        \n",
    "    async def main(loop):\n",
    "        tasks = []\n",
    "        async with aiohttp.ClientSession(loop=loop, headers = _headers ) as session:\n",
    "            for j in range(bot_right_corner[1],top_left_corner[1]):\n",
    "                for i in range(top_left_corner[0],bot_right_corner[0]):\n",
    "                    task = asyncio.create_task(put_tile(session, i, j, zoom))\n",
    "                    tasks.append(task)\n",
    "            await asyncio.gather(*tasks)\n",
    "            \n",
    "\n",
    "    loop = asyncio.get_event_loop()\n",
    "    loop.create_task(main(loop))\n",
    "    \n",
    "    return contenant"
   ]
  },
  {
   "cell_type": "code",
   "execution_count": 9,
   "metadata": {},
   "outputs": [
    {
     "name": "stdout",
     "output_type": "stream",
     "text": [
      "Zoom: 12 Tile Rez: 9783.93962050256 X,Y: 2064,1495\n",
      "Zoom: 12 Tile Rez: 9783.93962050256 X,Y: 2075,1495\n"
     ]
    }
   ],
   "source": [
    "test = get_map((1.4566024,43.611715),(2.4566024,43.611715), zoom = 12)"
   ]
  },
  {
   "cell_type": "code",
   "execution_count": 10,
   "metadata": {},
   "outputs": [],
   "source": [
    "Image.fromarray(numpy.concatenate(numpy.concatenate(test, axis= 1 ), axis=1)).save(\"output.jpg\")"
   ]
  },
  {
   "cell_type": "code",
   "execution_count": null,
   "metadata": {},
   "outputs": [],
   "source": []
  }
 ],
 "metadata": {
  "kernelspec": {
   "display_name": "Python 3",
   "language": "python",
   "name": "python3"
  },
  "language_info": {
   "codemirror_mode": {
    "name": "ipython",
    "version": 3
   },
   "file_extension": ".py",
   "mimetype": "text/x-python",
   "name": "python",
   "nbconvert_exporter": "python",
   "pygments_lexer": "ipython3",
   "version": "3.7.3"
  }
 },
 "nbformat": 4,
 "nbformat_minor": 2
}
