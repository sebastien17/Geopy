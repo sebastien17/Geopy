{
 "cells": [
  {
   "cell_type": "code",
   "execution_count": 45,
   "metadata": {
    "collapsed": true
   },
   "outputs": [],
   "source": [
    "from lxml import etree"
   ]
  },
  {
   "cell_type": "code",
   "execution_count": 46,
   "metadata": {
    "collapsed": true
   },
   "outputs": [],
   "source": [
    "_FILE_PATH = 'wmts.xml'\n",
    "_DEF_NS = {\"foo\": \"http://www.opengis.net/wmts/1.0\",\"ows\":\"http://www.opengis.net/ows/1.1\"}"
   ]
  },
  {
   "cell_type": "code",
   "execution_count": 47,
   "metadata": {},
   "outputs": [],
   "source": [
    "def get_tile_limits_info(file):\n",
    "    \"\"\"Return dict with tile identifier,description, limits for each tile type and zoom option\"\"\"\n",
    "    data = {}\n",
    "    tree = etree.parse(_FILE_PATH)\n",
    "    layers = tree.xpath('//foo:Layer', namespaces = _DEF_NS)\n",
    "\n",
    "    for Layer in layers:\n",
    "        identifier = Layer.xpath(\"ows:Identifier\" , namespaces = _DEF_NS)[0].text\n",
    "        description = Layer.xpath(\"ows:Title\" , namespaces = _DEF_NS)[0].text\n",
    "        #print(\"Layer id :{0} ==> {1}\".format(identifier,description))\n",
    "        data[identifier]={'description': description}\n",
    "\n",
    "        TileMatrixLimits_List = Layer.xpath('.//foo:TileMatrixLimits', namespaces = _DEF_NS)\n",
    "        for TileMatrixLimits in TileMatrixLimits_List:\n",
    "            TileMatrix = int(TileMatrixLimits.find(\"foo:TileMatrix\", namespaces = _DEF_NS).text)\n",
    "            MinTileRow = int(TileMatrixLimits.find(\"foo:MinTileRow\", namespaces = _DEF_NS).text)\n",
    "            MaxTileRow = int(TileMatrixLimits.find(\"foo:MaxTileRow\", namespaces = _DEF_NS).text)\n",
    "            MinTileCol = int(TileMatrixLimits.find(\"foo:MinTileCol\", namespaces = _DEF_NS).text)\n",
    "            MaxTileCol = int(TileMatrixLimits.find(\"foo:MaxTileCol\", namespaces = _DEF_NS).text)\n",
    "            #print(\"\\t{0} {1} {2} {3} {4}\".format(TileMatrix, MinTileRow, MaxTileRow,MinTileCol, MaxTileCol))\n",
    "            data[identifier][TileMatrix] = {'MinTileRow' : MinTileRow,\n",
    "                                            'MaxTileRow' : MaxTileRow,\n",
    "                                            'MinTileCol' : MinTileCol,\n",
    "                                            'MaxTileCol' : MaxTileCol\n",
    "                                            }\n",
    "    return(data)"
   ]
  },
  {
   "cell_type": "code",
   "execution_count": 50,
   "metadata": {},
   "outputs": [
    {
     "data": {
      "text/plain": [
       "{'MaxTileCol': 42934,\n",
       " 'MaxTileRow': 36763,\n",
       " 'MinTileCol': 21264,\n",
       " 'MinTileRow': 21889}"
      ]
     },
     "execution_count": 50,
     "metadata": {},
     "output_type": "execute_result"
    }
   ],
   "source": [
    "tile_data = get_tile_limits_info(_FILE_PATH)\n",
    "tile_data['GEOGRAPHICALGRIDSYSTEMS.MAPS.SCAN-EXPRESS.STANDARD'][16]"
   ]
  }
 ],
 "metadata": {
  "kernelspec": {
   "display_name": "Python 3",
   "language": "python",
   "name": "python3"
  },
  "language_info": {
   "codemirror_mode": {
    "name": "ipython",
    "version": 3
   },
   "file_extension": ".py",
   "mimetype": "text/x-python",
   "name": "python",
   "nbconvert_exporter": "python",
   "pygments_lexer": "ipython3",
   "version": "3.6.1"
  }
 },
 "nbformat": 4,
 "nbformat_minor": 2
}
